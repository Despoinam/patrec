{
 "cells": [
  {
   "cell_type": "code",
   "execution_count": 1,
   "metadata": {},
   "outputs": [],
   "source": [
    "import torch\n",
    "import pandas as pd\n",
    "import numpy as np\n",
    "import matplotlib.pyplot as plt\n",
    "#from torch.utils.data import Dataset, DataLoader\n",
    "#from torchvision import transforms, utils\n",
    "import warnings\n",
    "warnings.filterwarnings(\"ignore\",category=UserWarning)"
   ]
  },
  {
   "cell_type": "code",
   "execution_count": 2,
   "metadata": {},
   "outputs": [
    {
     "name": "stdout",
     "output_type": "stream",
     "text": [
      "(7291, 256)\n",
      "[-1.    -1.    -1.    -1.    -1.    -1.    -1.    -1.    -1.    -0.996\n",
      "  0.147  1.    -0.189 -1.    -1.    -1.    -1.    -1.    -1.    -1.\n",
      " -1.    -1.    -1.    -1.    -1.    -0.882  1.     0.39  -0.811 -1.\n",
      " -1.    -1.    -1.    -1.    -1.    -1.    -1.    -1.    -1.    -1.\n",
      " -1.    -0.715  1.     0.029 -1.    -1.    -1.    -1.    -1.    -1.\n",
      " -1.    -1.    -0.888 -0.912 -1.    -1.    -1.    -0.549  1.     0.361\n",
      " -1.    -1.    -1.    -1.    -1.    -1.    -1.    -0.938  0.694  0.057\n",
      " -1.    -1.    -1.    -0.382  1.     0.511 -1.    -1.    -1.    -1.\n",
      " -1.    -1.    -1.    -0.311  1.    -0.043 -1.    -1.    -1.    -0.648\n",
      "  1.     0.644 -1.    -1.    -1.    -1.    -1.    -1.    -1.     0.489\n",
      "  1.    -0.493 -1.    -1.    -1.    -0.564  1.     0.693 -1.    -1.\n",
      " -1.    -1.    -1.    -1.    -0.966  0.988  1.    -0.893 -1.    -1.\n",
      " -1.    -0.397  1.     0.903 -0.977 -1.    -1.    -1.    -1.    -1.\n",
      " -0.559  1.     1.    -0.297 -1.    -1.    -1.    -0.611  1.     0.873\n",
      " -0.698 -0.552 -1.    -1.    -1.    -1.    -0.126  1.     1.     0.766\n",
      " -0.764 -1.    -1.    -0.577  1.     0.933  0.484 -0.197 -1.    -1.\n",
      " -1.    -1.    -0.818 -0.355  0.334  1.     0.868 -0.289 -0.677 -0.596\n",
      "  1.     1.     1.    -0.581 -1.    -1.    -1.    -1.    -1.    -1.\n",
      " -0.954  0.118  1.     1.     1.     1.     1.     0.973 -0.092 -0.995\n",
      " -1.    -1.    -1.    -1.    -1.    -1.    -1.    -0.993 -0.464  0.046\n",
      "  0.29   0.457  1.     0.721 -1.    -1.    -1.    -1.    -1.    -1.\n",
      " -1.    -1.    -1.    -1.    -1.    -1.    -1.    -0.426  1.     0.555\n",
      " -1.    -1.    -1.    -1.    -1.    -1.    -1.    -1.    -1.    -1.\n",
      " -1.    -1.    -1.     0.024  1.     0.388 -1.    -1.    -1.    -1.\n",
      " -1.    -1.    -1.    -1.    -1.    -1.    -1.    -1.    -1.    -0.109\n",
      "  1.    -0.179 -1.    -1.    -1.    -1.   ]\n"
     ]
    }
   ],
   "source": [
    "import matplotlib.pyplot as plt\n",
    "import numpy as np\n",
    "\n",
    "train = np.loadtxt(open(r\"data\\train.txt\"))\n",
    "test = np.loadtxt(open(r\"data\\test.txt\"))\n",
    "\n",
    "X_train = train[:,1:]\n",
    "print(X_train.shape)\n",
    "y_train = train[:,0:1]\n",
    "print(X_train[2])\n",
    "\n",
    "X_test = test[:,1:]\n",
    "y_test = test[:,0:1]"
   ]
  },
  {
   "cell_type": "code",
   "execution_count": 3,
   "metadata": {},
   "outputs": [],
   "source": [
    "\n",
    "from torch.utils.data import Dataset, DataLoader\n",
    "from torchvision import transforms, utils\n",
    "\n",
    "\n",
    "class CustomDigitDataset(Dataset):\n",
    "   \n",
    "    def __init__(self, samples,labels,transform=None):\n",
    "        self.labels = labels\n",
    "        \n",
    "        self.samples = samples\n",
    "        self.trans=transform\n",
    "    def __len__(self):\n",
    "            return len(self.labels)\n",
    "    def __getitem__(self,idx):\n",
    "        if self.trans is not None:\n",
    "            label = np.array(self.trans(self.labels[idx]))\n",
    "            sample = np.array(self.trans(self.samples[idx]))\n",
    "            return label, sample\n",
    "        else:\n",
    "            \n",
    "            label = np.array(self.labels[idx])\n",
    "            sample = np.array(self.samples[idx])\n",
    "            return label, sample\n",
    "trainDataset = CustomDigitDataset(X_train,y_train)\n",
    "testDataset = CustomDigitDataset(X_test,y_test)\n"
   ]
  },
  {
   "cell_type": "code",
   "execution_count": 4,
   "metadata": {},
   "outputs": [
    {
     "data": {
      "image/png": "[encoded data removed]",
      "text/plain": [
       "<Figure size 576x576 with 9 Axes>"
      ]
     },
     "metadata": {
      "needs_background": "light"
     },
     "output_type": "display_data"
    }
   ],
   "source": [
    "figure = plt.figure(figsize=(8, 8))\n",
    "cols, rows = 3, 3\n",
    "for i in range(1, cols * rows + 1):\n",
    "    sample_idx = torch.randint(len(trainDataset), size=(1,)).item()\n",
    "    label, text = trainDataset[sample_idx]\n",
    "    figure.add_subplot(rows, cols, i)\n",
    "    \n",
    "    plt.axis(\"off\")\n",
    "    aaa=np.reshape(text,(16,16))\n",
    "    plt.imshow(aaa)\n",
    "plt.show()"
   ]
  },
  {
   "cell_type": "code",
   "execution_count": 5,
   "metadata": {},
   "outputs": [],
   "source": [
    "\n",
    "\n",
    "train_dataloader = torch.utils.data.DataLoader(trainDataset, batch_size=64, shuffle=True, num_workers=4)\n",
    "test_dataloader = torch.utils.data.DataLoader(testDataset, batch_size=64, shuffle=True,num_workers=4)"
   ]
  },
  {
   "cell_type": "code",
   "execution_count": null,
   "metadata": {},
   "outputs": [],
   "source": [
    "train_features, train_labels = next(iter(train_dataloader))\n",
    "print(f\"Feature batch shape: {train_features.size()}\")\n",
    "print(f\"Labels batch shape: {train_labels.size()}\")\n",
    "img = train_features[0].squeeze()\n",
    "label = train_labels[0]\n",
    "plt.imshow(img, cmap=\"gray\")\n",
    "plt.show()\n",
    "print(f\"Label: {label}\")"
   ]
  },
  {
   "cell_type": "code",
   "execution_count": null,
   "metadata": {},
   "outputs": [],
   "source": []
  },
  {
   "cell_type": "code",
   "execution_count": null,
   "metadata": {},
   "outputs": [],
   "source": [
    "import torch.nn as nn\n",
    "import torch.nn.functional as F\n",
    "\n",
    "\n",
    "# definition-2: The proposed way to define NNs in PyTorch \n",
    "#here are different activation functions\n",
    "\n",
    "# always inherit from nn.Module\n",
    "class DigitNet(nn.Module): \n",
    "  def __init__(self,activation='sigmoid'):\n",
    "        #instance of the nn module\n",
    "        super(DigitNet, self).__init__()\n",
    "        self.layer1 = nn.Linear(16 * 16, 200)\n",
    "        self.layer2 = nn.Linear(200, 200)\n",
    "        self.layer3 = nn.Linear(200,100)\n",
    "        self.layer4 = nn.Linear(100, 10)\n",
    "        if activation == 'sigmoid':\n",
    "          self.a = nn.Sigmoid()\n",
    "        else:\n",
    "          self.a = nn.ReLU()\n",
    "        #10 is the number of classes       \n",
    "      # this would also do the job\n",
    "      # self.t = nn.Sequenntial(self.f, self. a)\n",
    "          \n",
    "  # the forward pass of info through the net\n",
    "  #Now we’ve setup the “skeleton” of our network architecture, we have to define how data flows through out network.\n",
    "  def forward(self, Data): \n",
    "      Data = F.a(self.layer1(Data))\n",
    "      Data = F.a(self.layer2(Data))\n",
    "      Data = F.a(self.layer3(Data))\n",
    "      Data = self.layer4(Data)\n",
    "      return F.log_softmax(Data)\n",
    "\n",
    "net = DigitNet()\n",
    "print(net)"
   ]
  },
  {
   "cell_type": "code",
   "execution_count": null,
   "metadata": {},
   "outputs": [],
   "source": [
    "import torch\n",
    "learning_rate=0.01\n",
    "epochs=10\n",
    "log_interval = 10\n",
    "# create a stochastic gradient descent optimizer\n",
    "optimizer = torch.optim.SGD(net.parameters(), lr=learning_rate, momentum=0.9)\n",
    "# create a loss function\n",
    "criterion = nn.NLLLoss()\n",
    "\n",
    "\n",
    "\n",
    "\n"
   ]
  },
  {
   "cell_type": "code",
   "execution_count": null,
   "metadata": {},
   "outputs": [],
   "source": [
    "for batch_idx, (data, target) in enumerate(train_dataloader):\n",
    "        print(batch_idx)"
   ]
  },
  {
   "cell_type": "code",
   "execution_count": null,
   "metadata": {},
   "outputs": [],
   "source": [
    "from torch.autograd import Variable\n",
    "# run the main training loop\n",
    "for epoch in range(epochs):\n",
    "    print(epoch)\n",
    "    for batch_idx, (target, data) in enumerate(train_dataloader):\n",
    "        print(batch_idx)\n",
    "        data, target = Variable(data), Variable(target)\n",
    "        # resize data from (batch_size, 1, 16, 16) to (batch_size, 16*16)\n",
    "        data = data.view(-1, 16*16)\n",
    "       # optimizer.zero_grad()\n",
    "       # net_out = net(data)\n",
    "       # loss = criterion(net_out, target)\n",
    "       # loss.backward()\n",
    "        #optimizer.step()\n",
    "        if batch_idx % log_interval == 0:\n",
    "            print(\"ok\")\n",
    "           # print('Train Epoch: {} [{}/{} ({:.0f}%)]\\tLoss: {:.6f}'.format(\n",
    "              #      epoch, batch_idx * len(data), len(train_dataloader.dataset),\n",
    "               #            100. * batch_idx / len(train_dataloader), loss.data[0]))"
   ]
  },
  {
   "cell_type": "code",
   "execution_count": null,
   "metadata": {},
   "outputs": [],
   "source": []
  }
 ],
 "metadata": {
  "interpreter": {
   "hash": "ee5cc6fef2d70a7e71ee3826687cbd150f18158e0b1eef11d4f4f92bb920e304"
  },
  "kernelspec": {
   "display_name": "Python 3",
   "language": "python",
   "name": "python3"
  },
  "language_info": {
   "codemirror_mode": {
    "name": "ipython",
    "version": 3
   },
   "file_extension": ".py",
   "mimetype": "text/x-python",
   "name": "python",
   "nbconvert_exporter": "python",
   "pygments_lexer": "ipython3",
   "version": "3.8.5"
  }
 },
 "nbformat": 4,
 "nbformat_minor": 2
}
