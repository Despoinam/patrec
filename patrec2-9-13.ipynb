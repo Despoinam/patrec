{
 "cells": [
  {
   "cell_type": "code",
   "execution_count": 2,
   "id": "5344f665",
   "metadata": {},
   "outputs": [],
   "source": [
    "#9\n",
    "\n",
    "\n",
    "import os\n",
    "from glob import glob\n",
    "\n",
    "import librosa\n",
    "import numpy as np\n",
    "from sklearn.model_selection import train_test_split\n",
    "from sklearn.preprocessing import StandardScaler\n",
    "from tqdm import tqdm\n",
    "\n",
    "\n",
    "def parse_free_digits(directory):\n",
    "    # Parse relevant dataset info\n",
    "    files = glob(os.path.join(directory, \"*.wav\"))\n",
    "    \n",
    "    fnames = [f.split(\"\\\\\")[1].split(\".\")[0].split(\"_\") for f in files]\n",
    "    \n",
    "    ids = [f[2] for f in fnames]\n",
    "    y = [int(f[0]) for f in fnames]\n",
    "    speakers = [f[1] for f in fnames]\n",
    "    _, Fs = librosa.core.load(files[0], sr=None)\n",
    "\n",
    "    def read_wav(f):\n",
    "        wav, _ = librosa.core.load(f, sr=None)\n",
    "\n",
    "        return wav\n",
    "\n",
    "    # Read all wavs\n",
    "    wavs = [read_wav(f) for f in files]\n",
    "\n",
    "    # Print dataset info\n",
    "    print(\"Total wavs: {}. Fs = {} Hz\".format(len(wavs), Fs))\n",
    "\n",
    "    return wavs, Fs, ids, y, speakers\n",
    "\n",
    "\n",
    "def extract_features(wavs, n_mfcc=6, Fs=8000):\n",
    "    # Extract MFCCs for all wavs\n",
    "    window = 30 * Fs // 1000\n",
    "    step = window // 2\n",
    "    frames = [\n",
    "        librosa.feature.mfcc(\n",
    "            wav, Fs, n_fft=window, hop_length=window - step, n_mfcc=n_mfcc\n",
    "        ).T\n",
    "\n",
    "        for wav in tqdm(wavs, desc=\"Extracting mfcc features...\")\n",
    "    ]\n",
    "\n",
    "    print(\"Feature extraction completed with {} mfccs per frame\".format(n_mfcc))\n",
    "\n",
    "    return frames\n",
    "\n",
    "\n",
    "def split_free_digits(frames, ids, speakers, labels):\n",
    "    print(\"Splitting in train test split using the default dataset split\")\n",
    "    # Split to train-test\n",
    "    X_train, y_train, spk_train = [], [], []\n",
    "    X_test, y_test, spk_test = [], [], []\n",
    "    test_indices = [\"0\", \"1\", \"2\", \"3\", \"4\"]\n",
    "    \n",
    "    for idx, frame, label, spk in zip(ids, frames, labels, speakers):\n",
    "        if str(idx) in test_indices:\n",
    "            X_test.append(frame)\n",
    "            y_test.append(label)\n",
    "            spk_test.append(spk)\n",
    "        else:\n",
    "            X_train.append(frame)\n",
    "            y_train.append(label)\n",
    "            spk_train.append(spk)\n",
    "\n",
    "    return X_train, X_test, y_train, y_test, spk_train, spk_test\n",
    "\n",
    "\n",
    "def make_scale_fn(X_train):\n",
    "    # Standardize on train data\n",
    "    scaler = StandardScaler()\n",
    "    scaler.fit(np.concatenate(X_train))\n",
    "    print(\"Normalization will be performed using mean: {}\".format(scaler.mean_))\n",
    "    print(\"Normalization will be performed using std: {}\".format(scaler.scale_))\n",
    "    def scale(X):\n",
    "        scaled = []\n",
    "\n",
    "        for frames in X:\n",
    "            scaled.append(scaler.transform(frames))\n",
    "        return scaled\n",
    "    return scale\n",
    "\n",
    "\n",
    "def parser(directory, n_mfcc=6):\n",
    "    wavs, Fs, ids, y, speakers = parse_free_digits(directory)\n",
    "    frames = extract_features(wavs, n_mfcc=n_mfcc, Fs=Fs)\n",
    "    make_scale_fn(frames)\n",
    "#     print(len(frames))\n",
    "#     print(len(ids))\n",
    "#     print(len(y))\n",
    "#     print(len(speakers))\n",
    "    X_train, X_test, y_train, y_test, spk_train, spk_test = split_free_digits(\n",
    "        frames, ids, speakers, y\n",
    "    )\n",
    "\n",
    "    return X_train, X_test, y_train, y_test, spk_train, spk_test"
   ]
  },
  {
   "cell_type": "code",
   "execution_count": 3,
   "id": "01f01414",
   "metadata": {},
   "outputs": [
    {
     "name": "stdout",
     "output_type": "stream",
     "text": [
      "Total wavs: 3000. Fs = 8000 Hz\n"
     ]
    },
    {
     "name": "stderr",
     "output_type": "stream",
     "text": [
      "Extracting mfcc features...: 100%|████████████████████████████████████████████████| 3000/3000 [00:15<00:00, 195.37it/s]\n"
     ]
    },
    {
     "name": "stdout",
     "output_type": "stream",
     "text": [
      "Feature extraction completed with 6 mfccs per frame\n",
      "Normalization will be performed using mean: [-517.71365072   62.17300245   19.0018117     9.6444396   -19.211481\n",
      "  -10.88157066]\n",
      "Normalization will be performed using std: [152.11675796  52.36822505  36.82452713  29.71210521  24.82190463\n",
      "  23.43786656]\n",
      "Splitting in train test split using the default dataset split\n"
     ]
    }
   ],
   "source": [
    "X_train, X_test, y_train, y_test, spk_train, spk_test = parser(\"recordings\")"
   ]
  },
  {
   "cell_type": "code",
   "execution_count": 4,
   "id": "82b3e4db",
   "metadata": {},
   "outputs": [
    {
     "name": "stdout",
     "output_type": "stream",
     "text": [
      "2160\n",
      "540\n",
      "300\n"
     ]
    }
   ],
   "source": [
    "from sklearn.model_selection import train_test_split\n",
    "\n",
    "X_tr, X_val, y_tr, y_val = train_test_split(X_train, y_train, stratify=y_train, test_size=0.20) \n",
    "#stratify to make sure we have the same analogy\n",
    "\n",
    "print(len(X_tr))\n",
    "print(len(X_val))\n",
    "print(len(X_test))"
   ]
  },
  {
   "cell_type": "code",
   "execution_count": 7,
   "id": "0514db03",
   "metadata": {},
   "outputs": [],
   "source": [
    "#10\n",
    "#necessary for model training/testing cause shapes don't fit otherwise\n",
    "digits_tr = [0,0,0,0,0,0,0,0,0,0]\n",
    "\n",
    "for i in range(len(X_tr)):\n",
    "    if (type(digits_tr[y_tr[i]]) == int): \n",
    "        digits_tr[y_tr[i]] = X_tr[i]  #all instances of the same digit\n",
    "    else:\n",
    "        digits_tr[y_tr[i]] = np.concatenate((digits_tr[y_tr[i]], X_tr[i]), axis=0)\n",
    "\n",
    "        \n",
    "digits_val=[0,0,0,0,0,0,0,0,0,0]\n",
    "\n",
    "for i in range(len(X_val)):\n",
    "    if (type(digits_val[y_val[i]]) == int): \n",
    "        digits_val[y_val[i]] = X_val[i]\n",
    "    else:\n",
    "        digits_val[y_val[i]] = np.concatenate((digits_val[y_val[i]], X_val[i]), axis=0)\n",
    "        \n",
    "        \n",
    "digits_test=[0,0,0,0,0,0,0,0,0,0]\n",
    "\n",
    "for i in range(len(X_test)):\n",
    "    if (type(digits_test[y_test[i]]) == int): \n",
    "        digits_test[y_test[i]] = X_test[i]\n",
    "    else:\n",
    "        digits_test[y_test[i]] = np.concatenate((digits_test[y_test[i]], X_test[i]), axis=0)\n",
    "        \n",
    "        \n",
    "        \n",
    "#its dimension would be num_sequences x seq_length x feature_dimension  ?      \n",
    "digits_train_3 = [[], [], [], [], \n",
    "                   [], [], [], [], \n",
    "                   [], []]\n",
    "\n",
    "for i in range(len(X_tr)):\n",
    "    digits_train_3[y_tr[i]].append(np.array(X_tr[i]))\n",
    "\n",
    "digits_val_3 = [[], [], [], [], \n",
    "                [], [], [], [], \n",
    "                [], []]\n",
    "\n",
    "for i in range(len(X_val)):\n",
    "    digits_val_3[y_val[i]].append(np.array(X_val[i]))\n",
    "    \n",
    "    \n",
    "digits_test_3 = [[], [], [], [], \n",
    "                [], [], [], [], \n",
    "                [], []]\n",
    "\n",
    "for i in range(len(X_test)):\n",
    "    digits_test_3[y_test[i]].append(np.array(X_test[i]))"
   ]
  },
  {
   "cell_type": "code",
   "execution_count": 8,
   "id": "2d2d358f",
   "metadata": {},
   "outputs": [],
   "source": [
    "#modified the given code\n",
    "import numpy as np\n",
    "\n",
    "from pomegranate import *\n",
    "\n",
    "n_states = 4 # the number of HMM states\n",
    "n_mixtures = 3 # the number of Gaussians\n",
    "gmm = True # whether to use GMM or plain Gaussian\n",
    "gmm_hmm=[]\n",
    "\n",
    "for i in range(10):\n",
    "    Xi = np.array(digits_tr[i],dtype='float64')# data from a single digit (can be a numpy array)\n",
    "    dists = [] # list of probability distributions for the HMM states\n",
    "\n",
    "    for i in range(n_states):\n",
    "        if gmm:\n",
    "            a = GeneralMixtureModel.from_samples(MultivariateGaussianDistribution, n_mixtures, Xi)\n",
    "        else:\n",
    "            a = MultivariateGaussianDistribution.from_samples(Xi)\n",
    "        dists.append(a)\n",
    "\n",
    "    trans_mat = np.array([[0.5,0.5,0,0],[0,0.5,0.5,0],[0,0,0.5,0.5],[0,0,0,1]]) #your transition matrix aij=0 for j<i & j>i+1, 0.5 default initialization\n",
    "    starts = np.array([1,0,0,0]) # your starting probability matrix\n",
    "    ends = [] # your ending probability matrix #unknown for now\n",
    "\n",
    "    #data = [] # your data: must be a Python list that contains: 2D lists with the sequences (so its dimension would be num_sequences x seq_length x feature_dimension)\n",
    "              # But be careful, it is not a numpy array, it is a Python list (so each sequence can have different length)\n",
    "\n",
    "    # Define the GMM-HMM\n",
    "    model = HiddenMarkovModel.from_matrix(trans_mat, dists, starts, ends, state_names=['s{}'.format(j) for j in range(n_states)])\n",
    "    gmm_hmm.append(model)\n",
    "    \n"
   ]
  },
  {
   "cell_type": "code",
   "execution_count": 9,
   "id": "a59bb160",
   "metadata": {},
   "outputs": [],
   "source": [
    "#11 fitting\n",
    "for i in range(10):\n",
    "    gmm_hmm[i].fit(digits_train_3[i].copy(),algorithm='baum-welch') #baum-welch is EM\n",
    "    \n"
   ]
  },
  {
   "cell_type": "code",
   "execution_count": 10,
   "id": "c9050196",
   "metadata": {},
   "outputs": [
    {
     "name": "stdout",
     "output_type": "stream",
     "text": [
      "[0, 0, 3, 0, 3, 0, 2, 7, 6, 6, 3, 2, 9, 0, 9, 4, 5, 9, 9, 2, 7, 3, 6, 7, 9, 9, 3, 3, 8, 9, 7, 5, 1, 7, 9, 5, 9, 8, 0, 8, 2, 0, 6, 2, 9, 2, 6, 8, 8, 9, 3, 5, 5, 0, 2, 1, 4, 5, 3, 1, 6, 8, 2, 3, 2, 5, 5, 4, 9, 4, 0, 1, 8, 2, 2, 1, 8, 3, 2, 9, 8, 0, 3, 4, 9, 1, 2, 1, 0, 6, 4, 3, 7, 5, 6, 3, 4, 0, 3, 1, 8, 4, 2, 9, 5, 6, 2, 7, 1, 1, 8, 7, 2, 5, 8, 9, 5, 8, 8, 0, 3, 6, 8, 4, 7, 6, 8, 5, 5, 1, 7, 6, 7, 6, 1, 7, 4, 3, 3, 9, 0, 2, 9, 1, 2, 5, 0, 6, 1, 1, 6, 6, 4, 7, 8, 2, 8, 9, 7, 8, 5, 0, 3, 8, 3, 1, 4, 1, 4, 9, 7, 2, 1, 0, 4, 1, 7, 3, 5, 4, 8, 8, 0, 3, 1, 1, 2, 3, 7, 7, 9, 9, 2, 5, 0, 3, 9, 4, 3, 3, 5, 0, 5, 9, 1, 3, 2, 7, 4, 7, 8, 4, 6, 1, 4, 7, 3, 8, 7, 7, 5, 5, 3, 3, 3, 1, 9, 1, 0, 0, 1, 5, 2, 5, 2, 0, 6, 9, 5, 5, 0, 6, 4, 4, 2, 8, 5, 4, 8, 4, 0, 9, 9, 6, 8, 4, 7, 6, 4, 4, 6, 7, 8, 4, 9, 8, 2, 5, 2, 4, 7, 6, 0, 3, 3, 8, 2, 6, 0, 4, 3, 7, 2, 5, 1, 5, 5, 7, 4, 9, 8, 7, 6, 1, 2, 5, 2, 9, 9, 4, 6, 7, 0, 3, 3, 7, 9, 7, 4, 5, 8, 3, 3, 7, 2, 3, 9, 4, 8, 0, 8, 2, 9, 7, 9, 6, 6, 6, 5, 8, 3, 6, 5, 1, 9, 7, 0, 0, 0, 3, 1, 5, 1, 2, 6, 5, 8, 2, 2, 0, 2, 4, 1, 8, 0, 4, 3, 0, 1, 8, 6, 0, 9, 0, 5, 4, 4, 2, 6, 3, 0, 2, 3, 4, 0, 3, 5, 6, 4, 1, 3, 7, 7, 4, 7, 9, 0, 4, 9, 6, 5, 9, 9, 5, 7, 3, 6, 6, 0, 8, 8, 4, 2, 8, 3, 8, 8, 7, 2, 7, 1, 1, 4, 7, 0, 1, 1, 9, 8, 5, 8, 6, 3, 2, 3, 9, 7, 0, 5, 7, 1, 4, 1, 6, 0, 2, 0, 1, 8, 0, 7, 8, 6, 1, 0, 2, 8, 6, 9, 0, 0, 1, 4, 4, 8, 6, 7, 3, 6, 1, 1, 2, 5, 1, 5, 0, 7, 1, 9, 4, 5, 6, 5, 3, 2, 4, 0, 9, 1, 1, 3, 2, 6, 6, 8, 9, 9, 9, 8, 8, 9, 3, 7, 5, 1, 0, 8, 1, 4, 7, 7, 3, 9, 3, 0, 0, 6, 3, 1, 2, 9, 2, 7, 3, 5, 6, 4, 5, 4, 2, 1, 3, 1, 7, 0, 4, 2, 4, 2, 6, 5, 6, 0, 8, 4, 9, 5, 8, 1, 5]\n",
      "[0, 0, 3, 0, 3, 0, 2, 7, 6, 6, 3, 2, 9, 0, 9, 4, 5, 9, 9, 2, 7, 3, 6, 7, 9, 9, 3, 3, 8, 9, 7, 5, 1, 7, 9, 5, 9, 8, 0, 8, 2, 0, 6, 2, 9, 2, 6, 8, 8, 9, 3, 5, 5, 0, 2, 1, 4, 5, 6, 1, 6, 8, 2, 3, 2, 5, 5, 4, 9, 4, 0, 1, 8, 2, 2, 1, 8, 3, 2, 9, 8, 0, 3, 4, 9, 1, 2, 1, 0, 6, 4, 3, 7, 5, 6, 3, 4, 0, 3, 1, 8, 4, 2, 9, 5, 6, 2, 7, 1, 1, 8, 7, 2, 5, 7, 9, 5, 8, 8, 0, 3, 6, 8, 4, 7, 6, 8, 5, 5, 1, 7, 6, 7, 6, 1, 7, 4, 3, 3, 9, 0, 2, 9, 1, 2, 5, 0, 6, 1, 1, 6, 6, 4, 7, 8, 2, 8, 9, 7, 8, 5, 0, 3, 8, 3, 1, 4, 1, 4, 9, 7, 2, 1, 0, 4, 1, 7, 3, 5, 4, 8, 8, 0, 3, 1, 1, 2, 3, 7, 7, 9, 9, 2, 5, 0, 6, 7, 4, 3, 3, 5, 0, 5, 9, 1, 3, 2, 7, 4, 7, 8, 4, 6, 1, 4, 7, 3, 8, 7, 7, 5, 5, 3, 3, 3, 1, 9, 1, 0, 0, 1, 5, 2, 5, 2, 0, 6, 9, 5, 5, 0, 6, 4, 4, 2, 8, 5, 4, 8, 4, 0, 9, 9, 6, 8, 4, 7, 6, 4, 4, 6, 7, 8, 4, 9, 8, 2, 5, 2, 4, 7, 6, 0, 3, 3, 8, 2, 6, 0, 4, 3, 7, 2, 5, 1, 5, 5, 7, 4, 9, 8, 7, 6, 1, 2, 5, 2, 9, 9, 4, 6, 7, 0, 3, 3, 7, 9, 7, 4, 5, 8, 3, 3, 7, 2, 3, 9, 4, 8, 0, 8, 2, 9, 7, 9, 6, 8, 6, 5, 8, 3, 6, 5, 7, 9, 7, 0, 0, 0, 3, 1, 5, 1, 2, 6, 5, 8, 2, 2, 0, 2, 4, 1, 8, 0, 4, 3, 0, 1, 8, 6, 0, 9, 0, 5, 4, 4, 2, 6, 3, 0, 2, 3, 4, 2, 6, 5, 6, 4, 1, 3, 7, 7, 4, 7, 9, 1, 4, 9, 6, 5, 9, 9, 5, 7, 3, 6, 6, 0, 8, 8, 4, 2, 8, 3, 8, 8, 7, 2, 7, 1, 1, 4, 7, 0, 9, 1, 9, 8, 5, 8, 6, 6, 2, 3, 9, 7, 0, 5, 7, 1, 4, 1, 6, 0, 2, 0, 1, 8, 0, 7, 8, 6, 1, 0, 2, 8, 6, 9, 0, 0, 1, 4, 4, 8, 6, 7, 3, 6, 1, 1, 2, 5, 1, 5, 0, 7, 1, 9, 4, 5, 6, 5, 3, 2, 4, 0, 9, 1, 1, 3, 2, 6, 6, 6, 9, 9, 9, 8, 8, 9, 3, 7, 5, 1, 0, 8, 1, 4, 5, 7, 3, 9, 3, 0, 0, 6, 3, 1, 2, 9, 2, 7, 3, 5, 6, 4, 5, 4, 2, 1, 3, 1, 7, 0, 4, 2, 4, 2, 6, 5, 6, 0, 8, 4, 9, 5, 8, 1, 5]\n"
     ]
    }
   ],
   "source": [
    "#12\n",
    "#max log likelihood with viterbi algorithm\n",
    "#on validation set\n",
    "y_val_predictions=np.zeros(len(X_val),dtype='int')\n",
    "for i in range(len(X_val)):\n",
    "    logprob=-10000\n",
    "    for digit in range(10):\n",
    "        log1,tups=gmm_hmm[digit].viterbi(X_val[i].copy())\n",
    "        if log1>logprob:\n",
    "            logprob=log1\n",
    "            y_val_predictions[i]=digit\n",
    "y_val_predictions=list(y_val_predictions)            \n",
    "print(y_val_predictions)\n",
    "print(y_val)"
   ]
  },
  {
   "cell_type": "code",
   "execution_count": 11,
   "id": "3f7224a5",
   "metadata": {},
   "outputs": [
    {
     "name": "stdout",
     "output_type": "stream",
     "text": [
      "0.975925925925926\n"
     ]
    }
   ],
   "source": [
    "import sklearn.metrics as skm\n",
    "print(skm.accuracy_score(y_val,y_val_predictions))"
   ]
  },
  {
   "cell_type": "code",
   "execution_count": 26,
   "id": "6acdb173",
   "metadata": {},
   "outputs": [],
   "source": [
    "#sklearn estimator\n",
    "\n",
    "from sklearn.base import BaseEstimator, ClassifierMixin\n",
    "from sklearn.utils.validation import check_X_y, check_array, check_is_fitted\n",
    "from sklearn.utils.multiclass import unique_labels\n",
    "from sklearn.metrics import accuracy_score\n",
    "class GMM_HMMClassifier(BaseEstimator, ClassifierMixin):\n",
    "\n",
    "    def __init__(self, n_states_=1,n_mixtures_=1):\n",
    "        self.n_states_=n_states_\n",
    "        self.n_mixtures_=n_mixtures_\n",
    "        self.gmm_hmm=[]\n",
    "        \n",
    "\n",
    "    def fit(self, digits_train_3, y=None):\n",
    "        \n",
    "        \n",
    "        self.X_ = digits_train_3.copy()\n",
    "        \n",
    "        \n",
    "        \n",
    "        \n",
    "        for i in range(10):\n",
    "            Xi = np.array(digits_tr[i],dtype='float64') # data from a single digit (can be a numpy array)\n",
    "            dists = [] # list of probability distributions for the HMM states\n",
    "\n",
    "            for i in range(self.n_states_):\n",
    "                if self.n_mixtures_==1:\n",
    "                    a = MultivariateGaussianDistribution.from_samples(Xi)\n",
    "                else:\n",
    "                    a = GeneralMixtureModel.from_samples(MultivariateGaussianDistribution, self.n_mixtures_, Xi)\n",
    "                \n",
    "                dists.append(a)\n",
    "\n",
    "            trans_mat = np.zeros((self.n_states_,self.n_states_)) #your transition matrix aij=0 for j<i & j>i+1, 0.5 default initialization\n",
    "            for i in range(self.n_states_):\n",
    "                if (i==self.n_states_-1):\n",
    "                    trans_mat[i][i]=1\n",
    "                else: \n",
    "                    trans_mat[i][i]=0.5\n",
    "                    trans_mat[i][i+1]=0.5\n",
    "            starts = np.zeros(self.n_states_) # your starting probability matrix\n",
    "            starts[0]=1\n",
    "            ends = [] # your ending probability matrix #unknown for now\n",
    "\n",
    "            #data = [] # your data: must be a Python list that contains: 2D lists with the sequences (so its dimension would be num_sequences x seq_length x feature_dimension)\n",
    "            # But be careful, it is not a numpy array, it is a Python list (so each sequence can have different length)\n",
    "\n",
    "            # Define the GMM-HMM\n",
    "            model = HiddenMarkovModel.from_matrix(trans_mat, dists, starts, ends, state_names=['s{}'.format(j) for j in range(self.n_states_)])\n",
    "            self.gmm_hmm.append(model)\n",
    "        for i in range(10):\n",
    "            self.gmm_hmm[i].fit(self.X_[i],algorithm='baum-welch')\n",
    "        # Return the classifier\n",
    "        return self\n",
    "\n",
    "    def predict(self, X):\n",
    "\n",
    "        # Check is fit had been called\n",
    "        #check_is_fitted(self)\n",
    "\n",
    "        # Input validation\n",
    "        #X = check_array(X)\n",
    "        #vitebi algorithm finds lob probability\n",
    "        y_pred=np.zeros(len(X),dtype='int')\n",
    "        for i in range(len(X)):\n",
    "            logprob=-(np.inf-1)\n",
    "            for digit in range(10):\n",
    "                log1,tups=self.gmm_hmm[digit].viterbi(X[i].copy())\n",
    "                if log1>logprob:\n",
    "                    logprob=log1\n",
    "                    y_pred[i]=digit\n",
    "        \n",
    "        \n",
    "        \n",
    "        return y_pred\n",
    "    \n",
    "    def score(self,X,y):\n",
    "        y_pred = self.predict(X)\n",
    "        return accuracy_score(y, y_pred)"
   ]
  },
  {
   "cell_type": "code",
   "execution_count": 27,
   "id": "fa4b174d",
   "metadata": {},
   "outputs": [
    {
     "data": {
      "text/plain": [
       "GMM_HMMClassifier(n_mixtures_=3, n_states_=3)"
      ]
     },
     "execution_count": 27,
     "metadata": {},
     "output_type": "execute_result"
    }
   ],
   "source": [
    "clf=GMM_HMMClassifier(3,3)\n",
    "clf.fit(digits_train_3)"
   ]
  },
  {
   "cell_type": "code",
   "execution_count": 28,
   "id": "9c4ea19b",
   "metadata": {},
   "outputs": [
    {
     "data": {
      "text/plain": [
       "0.9722222222222222"
      ]
     },
     "execution_count": 28,
     "metadata": {},
     "output_type": "execute_result"
    }
   ],
   "source": [
    "clf.score(X_val,y_val)"
   ]
  },
  {
   "cell_type": "code",
   "execution_count": 29,
   "id": "831bf80a",
   "metadata": {},
   "outputs": [
    {
     "name": "stdout",
     "output_type": "stream",
     "text": [
      "number of hmm states: 1, number of gaussian mixtures: 1\n",
      "0.8111111111111111\n",
      "number of hmm states: 2, number of gaussian mixtures: 1\n",
      "0.8333333333333334\n",
      "number of hmm states: 3, number of gaussian mixtures: 1\n",
      "0.8981481481481481\n",
      "number of hmm states: 4, number of gaussian mixtures: 1\n",
      "0.937037037037037\n",
      "number of hmm states: 1, number of gaussian mixtures: 2\n",
      "0.8425925925925926\n",
      "number of hmm states: 2, number of gaussian mixtures: 2\n",
      "0.9111111111111111\n",
      "number of hmm states: 3, number of gaussian mixtures: 2\n",
      "0.9703703703703703\n",
      "number of hmm states: 4, number of gaussian mixtures: 2\n",
      "0.9574074074074074\n",
      "number of hmm states: 1, number of gaussian mixtures: 3\n",
      "0.8870370370370371\n",
      "number of hmm states: 2, number of gaussian mixtures: 3\n",
      "0.9537037037037037\n",
      "number of hmm states: 3, number of gaussian mixtures: 3\n",
      "0.9796296296296296\n",
      "number of hmm states: 4, number of gaussian mixtures: 3\n",
      "0.9722222222222222\n",
      "number of hmm states: 1, number of gaussian mixtures: 4\n",
      "0.9111111111111111\n",
      "number of hmm states: 2, number of gaussian mixtures: 4\n",
      "0.9611111111111111\n",
      "number of hmm states: 3, number of gaussian mixtures: 4\n",
      "0.9722222222222222\n",
      "number of hmm states: 4, number of gaussian mixtures: 4\n",
      "0.9833333333333333\n",
      "number of hmm states: 1, number of gaussian mixtures: 5\n",
      "0.9277777777777778\n",
      "number of hmm states: 2, number of gaussian mixtures: 5\n",
      "0.9722222222222222\n",
      "number of hmm states: 3, number of gaussian mixtures: 5\n",
      "0.9666666666666667\n",
      "number of hmm states: 4, number of gaussian mixtures: 5\n",
      "0.9777777777777777\n",
      "best parameters: n_mixtures=4 n_states=4\n"
     ]
    }
   ],
   "source": [
    "#finding the best parameters\n",
    "#1-4 states and 1-5 mixtures\n",
    "best=(1,1)\n",
    "best_score=0\n",
    "for mixtures in range(1,6):\n",
    "    for states in range(1,5):\n",
    "        print(\"number of hmm states: \"+str(states)+\", number of gaussian mixtures: \"+str(mixtures))\n",
    "        clf=GMM_HMMClassifier(mixtures,states)\n",
    "        clf.fit(digits_train_3)\n",
    "        score=clf.score(X_val,y_val)\n",
    "        print(score)\n",
    "        if score>best_score:\n",
    "            best_score=score\n",
    "            best=(mixtures,states)\n",
    "print(\"best parameters: n_mixtures=\"+str(best[0])+ \" n_states=\"+str(best[1]))"
   ]
  },
  {
   "cell_type": "code",
   "execution_count": 30,
   "id": "0519f409",
   "metadata": {},
   "outputs": [
    {
     "data": {
      "text/plain": [
       "0.9766666666666667"
      ]
     },
     "execution_count": 30,
     "metadata": {},
     "output_type": "execute_result"
    }
   ],
   "source": [
    "#testing the model\n",
    "clf=GMM_HMMClassifier(best[0],best[1])\n",
    "clf.fit(digits_train_3)\n",
    "clf.predict(X_test)\n",
    "clf.score(X_test,y_test)"
   ]
  },
  {
   "cell_type": "code",
   "execution_count": 32,
   "id": "99d6a933",
   "metadata": {},
   "outputs": [
    {
     "data": {
      "image/png": "[encoded data removed]",
      "text/plain": [
       "<Figure size 432x288 with 2 Axes>"
      ]
     },
     "metadata": {
      "needs_background": "light"
     },
     "output_type": "display_data"
    },
    {
     "data": {
      "image/png": "[encoded data removed]",
      "text/plain": [
       "<Figure size 432x288 with 2 Axes>"
      ]
     },
     "metadata": {
      "needs_background": "light"
     },
     "output_type": "display_data"
    }
   ],
   "source": [
    "#13\n",
    "#confusion matrix\n",
    "import matplotlib.pyplot as plt\n",
    "from sklearn.metrics import confusion_matrix\n",
    "import itertools\n",
    "\n",
    "def plot_confusion_matrix(cm, classes,\n",
    "                          title='Confusion matrix',\n",
    "                          cmap=plt.cm.Blues):\n",
    "    plt.imshow(cm, interpolation='nearest', cmap=cmap)\n",
    "    plt.title(title)\n",
    "    plt.colorbar()\n",
    "    tick_marks = np.arange(len(classes))\n",
    "    plt.xticks(tick_marks, classes, rotation=45)\n",
    "    plt.yticks(tick_marks, classes)\n",
    "\n",
    "    fmt = 'd'\n",
    "    thresh = cm.max() / 2.\n",
    "    for i, j in itertools.product(range(cm.shape[0]), range(cm.shape[1])):\n",
    "        plt.text(j, i, format(cm[i, j], fmt),\n",
    "                 horizontalalignment=\"center\",\n",
    "                 color=\"white\" if cm[i, j] > thresh else \"black\")\n",
    "\n",
    "    plt.ylabel('True label')\n",
    "    plt.xlabel('Predicted label')\n",
    "    plt.tight_layout()  \n",
    "    plt.show()\n",
    "\n",
    "cm1 = confusion_matrix(y_val, clf.predict(X_val))\n",
    "\n",
    "plot_confusion_matrix(cm1, unique_labels(y_val),title = \"Confusion Matrix for validation set\")\n",
    "\n",
    "cm2 = confusion_matrix(y_test, clf.predict(X_test))\n",
    "\n",
    "plot_confusion_matrix(cm2, unique_labels(y_test),title = \"Confusion Matrix for test set\")"
   ]
  },
  {
   "cell_type": "code",
   "execution_count": null,
   "id": "c95231ac",
   "metadata": {},
   "outputs": [],
   "source": []
  }
 ],
 "metadata": {
  "kernelspec": {
   "display_name": "Python [conda env:lab2]",
   "language": "python",
   "name": "conda-env-lab2-py"
  },
  "language_info": {
   "codemirror_mode": {
    "name": "ipython",
    "version": 3
   },
   "file_extension": ".py",
   "mimetype": "text/x-python",
   "name": "python",
   "nbconvert_exporter": "python",
   "pygments_lexer": "ipython3",
   "version": "3.6.13"
  }
 },
 "nbformat": 4,
 "nbformat_minor": 5
}
